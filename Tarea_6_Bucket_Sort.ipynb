{
  "nbformat": 4,
  "nbformat_minor": 0,
  "metadata": {
    "colab": {
      "provenance": [],
      "authorship_tag": "ABX9TyNHZVEBEdouAjYk70UBvhC+",
      "include_colab_link": true
    },
    "kernelspec": {
      "name": "python3",
      "display_name": "Python 3"
    },
    "language_info": {
      "name": "python"
    }
  },
  "cells": [
    {
      "cell_type": "markdown",
      "metadata": {
        "id": "view-in-github",
        "colab_type": "text"
      },
      "source": [
        "<a href=\"https://colab.research.google.com/github/AlexanderMoore2409/Tarea-6/blob/main/Tarea_6_Bucket_Sort.ipynb\" target=\"_parent\"><img src=\"https://colab.research.google.com/assets/colab-badge.svg\" alt=\"Open In Colab\"/></a>"
      ]
    },
    {
      "cell_type": "code",
      "execution_count": 16,
      "metadata": {
        "colab": {
          "base_uri": "https://localhost:8080/"
        },
        "id": "6L55NpAKsZl8",
        "outputId": "0b5108a8-8674-4ac6-d1fa-a69e16f8b3c0"
      },
      "outputs": [
        {
          "output_type": "stream",
          "name": "stdout",
          "text": [
            "[0.1, 0.11, 0.12, 0.22, 0.31, 0.33, 0.4, 0.4, 0.41, 0.57, 0.7, 0.78, 0.88, 0.89, 0.97]\n"
          ]
        }
      ],
      "source": [
        "def bucketSort(array):\n",
        "    bucket = []\n",
        "\n",
        "    for i in range(len(array)):\n",
        "        bucket.append([])\n",
        "    \n",
        "    for j in array:\n",
        "        index_b = int(10 * j)\n",
        "        bucket[index_b].append(j)\n",
        "    \n",
        "    for i in range(len(array)):\n",
        "        bucket[i] = sorted(bucket[i])\n",
        "\n",
        "    k = 0\n",
        "    for i in range(len(array)):\n",
        "        for j in range(len(bucket[i])):\n",
        "            array[k] = bucket[i][j]\n",
        "            k += 1\n",
        "    return array\n",
        "\n",
        "array = [.70, .12, .11, .78, .40, .33, .4, .31, .57, .10, .41, .22, .89, .88, .97]\n",
        "print(bucketSort(array))"
      ]
    }
  ]
}